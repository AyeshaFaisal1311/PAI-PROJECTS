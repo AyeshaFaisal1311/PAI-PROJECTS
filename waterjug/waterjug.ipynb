{
 "cells": [
  {
   "cell_type": "code",
   "execution_count": 1,
   "id": "29e972e0",
   "metadata": {},
   "outputs": [],
   "source": [
    "def water_jug_dfs(capacity1, capacity2, target):\n",
    "    visited = set()\n",
    "    path = []\n",
    "    actions_taken = []\n",
    "\n",
    "    rule_descriptions = {\n",
    "        1: f\"Fill {capacity1}-liter jug\",\n",
    "        2: f\"Fill {capacity2}-liter jug\",\n",
    "        3: f\"Empty {capacity1}-liter jug\",\n",
    "        4: f\"Empty {capacity2}-liter jug\",\n",
    "        5: f\"Pour {capacity1}-liter jug into {capacity2}-liter jug until {capacity2}-liter jug is full\",\n",
    "        6: f\"Pour {capacity2}-liter jug into {capacity1}-liter jug until {capacity1}-liter jug is full\",\n",
    "        7: f\"Pour {capacity1}-liter jug into {capacity2}-liter jug until {capacity1}-liter jug is empty\",\n",
    "        8: f\"Pour {capacity2}-liter jug into {capacity1}-liter jug until {capacity2}-liter jug is empty\",\n",
    "    }\n",
    "\n",
    "    def dfs(jug1, jug2):\n",
    "        if (jug1, jug2) in visited:\n",
    "            return False\n",
    "        \n",
    "        visited.add((jug1, jug2))\n",
    "        path.append((jug1, jug2))\n",
    "        if jug1 == target or jug2 == target:\n",
    "            return True\n",
    "\n",
    "        rules = [\n",
    "            (capacity1, jug2, 1),\n",
    "            (jug1, capacity2, 2),\n",
    "            (0, jug2, 3),\n",
    "            (jug1, 0, 4),\n",
    "            (capacity1, abs(jug2 - (capacity1 - jug1)), 5),\n",
    "            (abs(jug1 - (capacity2 - jug2)), capacity2, 6),\n",
    "            (jug1 + jug2, 0, 7),\n",
    "            (0, jug1 + jug2, 8),\n",
    "        ]\n",
    "\n",
    "        for new_jug1, new_jug2, rule_num in rules:\n",
    "            if new_jug1 > capacity1 or new_jug2 > capacity2:\n",
    "                continue\n",
    "            if (new_jug1, new_jug2) not in visited:\n",
    "                actions_taken.append(rule_descriptions.get(rule_num, \"Unknown Action\"))\n",
    "                if dfs(new_jug1, new_jug2):\n",
    "                    return True\n",
    "                actions_taken.pop()\n",
    "\n",
    "        path.pop()\n",
    "        return False\n",
    "\n",
    "    dfs(0, 0)\n",
    "\n",
    "    if path and (path[-1][0] == target or path[-1][1] == target):\n",
    "        return path,actions_taken\n",
    "    else:\n",
    "        return None, None\n",
    "    \n"
   ]
  },
  {
   "cell_type": "code",
   "execution_count": 3,
   "id": "24ded683",
   "metadata": {},
   "outputs": [
    {
     "name": "stdout",
     "output_type": "stream",
     "text": [
      "Solution steps:\n",
      "Step 0: (0, 0) - Action: Start\n",
      "Step 1: (6, 0) - Action: Fill 6-liter jug\n",
      "Step 2: (6, 5) - Action: Fill 5-liter jug\n",
      "Step 3: (0, 5) - Action: Empty 6-liter jug\n",
      "Step 4: (6, 1) - Action: Pour 6-liter jug into 5-liter jug until 5-liter jug is full\n",
      "Step 5: (0, 1) - Action: Empty 6-liter jug\n",
      "Step 6: (4, 5) - Action: Pour 5-liter jug into 6-liter jug until 6-liter jug is full\n"
     ]
    }
   ],
   "source": [
    "capacity1 = 6\n",
    "capacity2 = 5\n",
    "target = 4\n",
    "solution, actions = water_jug_dfs(capacity1, capacity2, target)\n",
    "\n",
    "if solution:\n",
    "    print(\"Solution steps:\")\n",
    "    for i, step in enumerate(solution):\n",
    "        action = actions[i - 1] if i > 0 else \"Start\"\n",
    "        print(f\"Step {i}: {step} - Action: {action}\")\n",
    "else:\n",
    "    print(\"No solution found.\")"
   ]
  }
 ],
 "metadata": {
  "kernelspec": {
   "display_name": "Python 3",
   "language": "python",
   "name": "python3"
  },
  "language_info": {
   "codemirror_mode": {
    "name": "ipython",
    "version": 3
   },
   "file_extension": ".py",
   "mimetype": "text/x-python",
   "name": "python",
   "nbconvert_exporter": "python",
   "pygments_lexer": "ipython3",
   "version": "3.12.4"
  }
 },
 "nbformat": 4,
 "nbformat_minor": 5
}
