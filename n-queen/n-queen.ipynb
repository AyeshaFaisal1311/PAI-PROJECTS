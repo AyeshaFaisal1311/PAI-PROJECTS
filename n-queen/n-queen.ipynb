{
 "cells": [
  {
   "cell_type": "code",
   "execution_count": 2,
   "id": "b9b04cae",
   "metadata": {},
   "outputs": [
    {
     "name": "stdout",
     "output_type": "stream",
     "text": [
      "1 3 5 2 4\n"
     ]
    }
   ],
   "source": [
    "def isSafe(row,col, n,cols, diag1,diag2):\n",
    "    return not cols[col] and not diag1[row + col] and not diag2[row -col + n - 1]\n",
    "\n",
    "def placeQueens(row, mat, n, cols, diag1, diag2):\n",
    "    if row == n:\n",
    "        return True\n",
    "\n",
    "    for col in range(n):\n",
    "        if isSafe(row, col, n,cols, diag1,diag2):\n",
    "            mat[row][col] = 1\n",
    "            cols[col] =True\n",
    "            diag1[row+ col] = True\n",
    "            diag2[row -col + n - 1] = True\n",
    "\n",
    "            if placeQueens(row + 1, mat, n, cols, diag1,diag2):\n",
    "                return True\n",
    "\n",
    "            mat[row][col] = 0\n",
    "            cols[col] =False\n",
    "            diag1[row+ col] = False\n",
    "            diag2[row -col + n - 1]  =False\n",
    "\n",
    "    return False\n",
    "\n",
    "def nQueen(n):\n",
    "    mat =[[0]*n for _ in range(n)]\n",
    "    cols= [False]*n\n",
    "    diag1 = [False]*(2*n - 1)\n",
    "    diag2 =[False]*(2*n - 1)\n",
    "\n",
    "    if placeQueens(0, mat, n,cols, diag1,diag2):\n",
    "        ans =[]\n",
    "        for i in range(n):\n",
    "            for j in range(n):\n",
    "                if mat[i][j]:\n",
    "                    ans.append(j + 1)\n",
    "        return ans\n",
    "    else:\n",
    "        return [-1]\n",
    "\n",
    "if __name__== \"__main__\":\n",
    "    n = int(input(\"Enter the size of the board (number of queens): \"))\n",
    "    ans= nQueen(n)\n",
    "    print(\" \".join(map(str, ans)))\n"
   ]
  }
 ],
 "metadata": {
  "kernelspec": {
   "display_name": "Python 3",
   "language": "python",
   "name": "python3"
  },
  "language_info": {
   "codemirror_mode": {
    "name": "ipython",
    "version": 3
   },
   "file_extension": ".py",
   "mimetype": "text/x-python",
   "name": "python",
   "nbconvert_exporter": "python",
   "pygments_lexer": "ipython3",
   "version": "3.12.4"
  }
 },
 "nbformat": 4,
 "nbformat_minor": 5
}
