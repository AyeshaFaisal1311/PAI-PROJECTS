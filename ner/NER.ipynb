{
 "cells": [
  {
   "cell_type": "markdown",
   "id": "02898e20",
   "metadata": {},
   "source": [
    "NAMED ENTITY RECOGNITION USING NLP:"
   ]
  },
  {
   "cell_type": "code",
   "execution_count": null,
   "id": "86b45d91",
   "metadata": {},
   "outputs": [],
   "source": [
    "!pip install spacy \n"
   ]
  },
  {
   "cell_type": "code",
   "execution_count": null,
   "id": "fa0d94ce",
   "metadata": {},
   "outputs": [],
   "source": [
    "!pip install nltk \n"
   ]
  },
  {
   "cell_type": "code",
   "execution_count": null,
   "id": "f253fcd7",
   "metadata": {},
   "outputs": [],
   "source": [
    "!python -m spacy download en_core_web_sm"
   ]
  },
  {
   "cell_type": "code",
   "execution_count": null,
   "id": "e5b8138d",
   "metadata": {},
   "outputs": [],
   "source": [
    "!pip install pandas"
   ]
  },
  {
   "cell_type": "code",
   "execution_count": null,
   "id": "ae250e75",
   "metadata": {},
   "outputs": [],
   "source": [
    "pip install --upgrade pip\n"
   ]
  },
  {
   "cell_type": "code",
   "execution_count": null,
   "id": "ca8f72be",
   "metadata": {},
   "outputs": [],
   "source": [
    "!pip install BeautifulSoup4"
   ]
  },
  {
   "cell_type": "code",
   "execution_count": 10,
   "id": "6d6a077f",
   "metadata": {},
   "outputs": [],
   "source": [
    "import pandas as pd \n",
    "import spacy \n",
    "import requests "
   ]
  },
  {
   "cell_type": "code",
   "execution_count": null,
   "id": "aad2dd77",
   "metadata": {},
   "outputs": [],
   "source": [
    "from bs4 import BeautifulSoup"
   ]
  },
  {
   "cell_type": "code",
   "execution_count": 19,
   "id": "dc09e97e",
   "metadata": {},
   "outputs": [],
   "source": [
    "nlp = spacy.load(\"en_core_web_sm\")\n",
    "pd.set_option(\"display.max_rows\", 200)"
   ]
  },
  {
   "cell_type": "code",
   "execution_count": 20,
   "id": "8387dd80",
   "metadata": {},
   "outputs": [
    {
     "name": "stdout",
     "output_type": "stream",
     "text": [
      "Trinamool Congress 0 18 ORG\n",
      "Mahua Moitra 26 38 PERSON\n",
      "the Supreme Court 49 66 ORG\n",
      "Moitra 157 163 NORP\n",
      "Parliament 184 194 ORG\n",
      "last week 195 204 DATE\n",
      "the Ethics\n",
      "Committee 211 231 ORG\n",
      "the Lok Sabha 235 248 ORG\n",
      "Darshan Hiranandani 373 392 PERSON\n"
     ]
    }
   ],
   "source": [
    "content = '''Trinamool Congress leader Mahua Moitra has moved the Supreme Court\n",
    "against her expulsion from the Lok Sabha over the cash-for-query allegations\n",
    "against her. Moitra was ousted from the Parliament last week after the Ethics\n",
    "Committee of the Lok Sabha found her guilty of jeopardising national security by\n",
    "sharing her parliamentary portal's login credentials with businessman Darshan Hiranandani.'''\n",
    "doc = nlp(content)\n",
    "for ent in doc.ents:\n",
    "    print(ent.text, ent.start_char, ent.end_char, ent.label_)"
   ]
  },
  {
   "cell_type": "code",
   "execution_count": 23,
   "id": "9dc4cc2a",
   "metadata": {},
   "outputs": [
    {
     "name": "stdout",
     "output_type": "stream",
     "text": [
      "                    text    type                  lemma\n",
      "0     Trinamool Congress     ORG     Trinamool Congress\n",
      "1           Mahua Moitra  PERSON           Mahua Moitra\n",
      "2      the Supreme Court     ORG      the Supreme Court\n",
      "3                 Moitra    NORP                 Moitra\n",
      "4             Parliament     ORG             Parliament\n",
      "5              last week    DATE              last week\n",
      "6  the Ethics\\nCommittee     ORG  the Ethics\\nCommittee\n",
      "7          the Lok Sabha     ORG          the Lok Sabha\n",
      "8    Darshan Hiranandani  PERSON    Darshan Hiranandani\n"
     ]
    }
   ],
   "source": [
    "entities = [(ent.text, ent.label_, ent.lemma_) for ent in doc.ents]\n",
    "df = pd.DataFrame(entities, columns=['text', 'type', 'lemma'])\n",
    "print(df)"
   ]
  },
  {
   "cell_type": "code",
   "execution_count": null,
   "id": "610b7ab0",
   "metadata": {},
   "outputs": [],
   "source": []
  }
 ],
 "metadata": {
  "kernelspec": {
   "display_name": "nervenv",
   "language": "python",
   "name": "python3"
  },
  "language_info": {
   "codemirror_mode": {
    "name": "ipython",
    "version": 3
   },
   "file_extension": ".py",
   "mimetype": "text/x-python",
   "name": "python",
   "nbconvert_exporter": "python",
   "pygments_lexer": "ipython3",
   "version": "3.12.4"
  }
 },
 "nbformat": 4,
 "nbformat_minor": 5
}
